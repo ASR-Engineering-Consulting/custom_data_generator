{
 "cells": [
  {
   "cell_type": "code",
   "execution_count": 1,
   "metadata": {},
   "outputs": [],
   "source": [
    "import numpy as np \n",
    "import pandas as pd \n",
    "import random\n",
    "\n",
    "import cv2\n",
    "import os\n"
   ]
  },
  {
   "cell_type": "markdown",
   "metadata": {},
   "source": [
    "### 1. Preparing training and test csv files"
   ]
  },
  {
   "cell_type": "code",
   "execution_count": 2,
   "metadata": {},
   "outputs": [
    {
     "name": "stdout",
     "output_type": "stream",
     "text": [
      "the data list is:  ['daisy', 'dandelion', 'rose', 'sunflower', 'tulip']\n"
     ]
    }
   ],
   "source": [
    "\n",
    "data_path = 'flowers_renamed'\n",
    "#data_path = os.path.join(root_dir,data_folder)\n",
    "data_dir_list = os.listdir(data_path)\n",
    "print ('the data list is: ',data_dir_list)\n"
   ]
  },
  {
   "cell_type": "code",
   "execution_count": 3,
   "metadata": {},
   "outputs": [],
   "source": [
    "# Assigning labels to each flower category\n",
    "num_classes = 5\n",
    "labels_name={'daisy':0,'dandelion':1,'rose':2,'sunflower':3,'tulip':4}"
   ]
  },
  {
   "cell_type": "code",
   "execution_count": 4,
   "metadata": {},
   "outputs": [
    {
     "name": "stdout",
     "output_type": "stream",
     "text": [
      "Loading the images of dataset-daisy\n",
      "\n",
      "Read 769 images out of 769 images from data dir daisy\n",
      "\n",
      "Loading the images of dataset-dandelion\n",
      "\n",
      "Read 1052 images out of 1052 images from data dir dandelion\n",
      "\n",
      "Loading the images of dataset-rose\n",
      "\n",
      "Read 784 images out of 784 images from data dir rose\n",
      "\n",
      "Loading the images of dataset-sunflower\n",
      "\n",
      "Read 734 images out of 734 images from data dir sunflower\n",
      "\n",
      "Loading the images of dataset-tulip\n",
      "\n",
      "Read 984 images out of 984 images from data dir tulip\n",
      "\n",
      "completed reading all the image files and assigned labels accordingly\n"
     ]
    }
   ],
   "source": [
    "# create two dataframes one for train and other for test with 3 columns as filename,label and classname\n",
    "train_df = pd.DataFrame(columns=['FileName', 'Label', 'ClassName'])\n",
    "test_df = pd.DataFrame(columns=['FileName', 'Label', 'ClassName'])\n",
    "\n",
    "#number of images to take for test data from each flower category\n",
    "num_images_for_test = 60\n",
    "\n",
    "# Here data_dir_list = ['daisy', 'dandelion', 'rose', 'sunflower', 'tulip']\n",
    "# Loop over every flower category\n",
    "for dataset in data_dir_list:\n",
    "    # load the list of image names in each of the flower category\n",
    "    img_list = os.listdir(os.path.join(data_path,dataset))\n",
    "    print ('Loading the images of dataset-'+'{}\\n'.format(dataset))\n",
    "    label = labels_name[dataset]\n",
    "    num_img_files = len(img_list)\n",
    "    num_corrupted_files=0\n",
    "    test_list_index = random.sample(range(1, num_img_files-1), num_images_for_test)\n",
    "    \n",
    "    # read each file and if it is corrupted exclude it , if not include it in either train or test data frames\n",
    "    for i in range(num_img_files):\n",
    "        img_name = img_list[i]\n",
    "        img_filename = os.path.join(data_path,dataset,img_name)\n",
    "        try:\n",
    "            input_img = cv2.imread(img_filename)\n",
    "            img_shape=input_img.shape\n",
    "            if i in test_list_index:\n",
    "                test_df = test_df.append({'FileName': img_filename, 'Label': label,'ClassName': dataset},ignore_index=True)\n",
    "            else:\n",
    "                train_df = train_df.append({'FileName': img_filename, 'Label': label,'ClassName': dataset},ignore_index=True)       \n",
    "        except:\n",
    "            print ('{} is corrupted\\n'.format(img_filename))\n",
    "            num_corrupted_files+=1\n",
    "    \n",
    "    \n",
    "    \n",
    "    print ('Read {0} images out of {1} images from data dir {2}\\n'.format(num_img_files-num_corrupted_files,num_img_files,dataset))\n",
    "\n",
    "print ('completed reading all the image files and assigned labels accordingly')\n"
   ]
  },
  {
   "cell_type": "code",
   "execution_count": 5,
   "metadata": {},
   "outputs": [
    {
     "name": "stdout",
     "output_type": "stream",
     "text": [
      "The train and test csv files are saved\n"
     ]
    }
   ],
   "source": [
    "if not os.path.exists('data_files'):\n",
    "    os.mkdir('data_files')\n",
    "\n",
    "train_df.to_csv('data_files/flowers_recognition_train.csv')\n",
    "test_df.to_csv('data_files/flowers_recognition_test.csv')\n",
    "print('The train and test csv files are saved')"
   ]
  },
  {
   "cell_type": "markdown",
   "metadata": {},
   "source": [
    "### save the labels in a file as well"
   ]
  },
  {
   "cell_type": "code",
   "execution_count": 6,
   "metadata": {},
   "outputs": [],
   "source": [
    "import pickle as pkl\n",
    "\n",
    "with open('data_files/label_map.pkl', 'wb') as handle:\n",
    "    pkl.dump(labels_name, handle, protocol=pkl.HIGHEST_PROTOCOL)\n",
    "\n",
    "#with open('filename.pickle', 'rb') as handle:\n",
    "#    b = pickle.load(handle)\n",
    "\n",
    "#print a == b"
   ]
  },
  {
   "cell_type": "code",
   "execution_count": 7,
   "metadata": {},
   "outputs": [
    {
     "ename": "NameError",
     "evalue": "name 'samples' is not defined",
     "output_type": "error",
     "traceback": [
      "\u001b[1;31m---------------------------------------------------------------------------\u001b[0m",
      "\u001b[1;31mNameError\u001b[0m                                 Traceback (most recent call last)",
      "\u001b[1;32m<ipython-input-7-88f3183c6c10>\u001b[0m in \u001b[0;36m<module>\u001b[1;34m\u001b[0m\n\u001b[1;32m----> 1\u001b[1;33m \u001b[0mprint\u001b[0m \u001b[1;33m(\u001b[0m\u001b[0msamples\u001b[0m\u001b[1;33m[\u001b[0m\u001b[1;33m-\u001b[0m\u001b[1;36m15\u001b[0m\u001b[1;33m:\u001b[0m\u001b[1;33m-\u001b[0m\u001b[1;36m10\u001b[0m\u001b[1;33m]\u001b[0m\u001b[1;33m)\u001b[0m\u001b[1;33m\u001b[0m\u001b[1;33m\u001b[0m\u001b[0m\n\u001b[0m",
      "\u001b[1;31mNameError\u001b[0m: name 'samples' is not defined"
     ]
    }
   ],
   "source": []
  },
  {
   "cell_type": "code",
   "execution_count": null,
   "metadata": {},
   "outputs": [],
   "source": []
  }
 ],
 "metadata": {
  "kernelspec": {
   "display_name": "Python 3",
   "language": "python",
   "name": "python3"
  },
  "language_info": {
   "codemirror_mode": {
    "name": "ipython",
    "version": 3
   },
   "file_extension": ".py",
   "mimetype": "text/x-python",
   "name": "python",
   "nbconvert_exporter": "python",
   "pygments_lexer": "ipython3",
   "version": "3.6.8"
  }
 },
 "nbformat": 4,
 "nbformat_minor": 2
}
