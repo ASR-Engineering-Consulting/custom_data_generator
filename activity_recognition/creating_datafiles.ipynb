{
 "cells": [
  {
   "cell_type": "code",
   "execution_count": 3,
   "metadata": {},
   "outputs": [],
   "source": [
    "import pandas as pd\n",
    "import os"
   ]
  },
  {
   "cell_type": "code",
   "execution_count": 4,
   "metadata": {},
   "outputs": [],
   "source": [
    "root_data_dir = 'activity_recognition'"
   ]
  },
  {
   "cell_type": "code",
   "execution_count": 5,
   "metadata": {},
   "outputs": [],
   "source": [
    "# Assigning labels to each flower category\n",
    "num_classes = 3 \n",
    "labels_name={'Archery':0,'Basketball':1,'Biking':2}"
   ]
  },
  {
   "cell_type": "code",
   "execution_count": 7,
   "metadata": {},
   "outputs": [],
   "source": [
    "# Loop over every activity category in train and test \n",
    "train_data_path = os.path.join('activity_data','train')\n",
    "test_data_path = os.path.join('activity_data','test')"
   ]
  },
  {
   "cell_type": "code",
   "execution_count": 8,
   "metadata": {},
   "outputs": [],
   "source": [
    "if not os.path.exists('data_files'):\n",
    "    os.mkdir('data_files')\n",
    "if not os.path.exists('data_files/train'):\n",
    "    os.mkdir('data_files/train') \n",
    "if not os.path.exists('data_files/test'):\n",
    "    os.mkdir('data_files/test')     "
   ]
  },
  {
   "cell_type": "markdown",
   "metadata": {},
   "source": [
    "#### Create csv file for training data"
   ]
  },
  {
   "cell_type": "code",
   "execution_count": 9,
   "metadata": {},
   "outputs": [],
   "source": [
    "data_dir_list = os.listdir(train_data_path)\n",
    "for data_dir in data_dir_list:\n",
    "    label = labels_name[str(data_dir)]\n",
    "    video_list = os.listdir(os.path.join(train_data_path,data_dir))\n",
    "    for vid in video_list:\n",
    "        train_df = pd.DataFrame(columns=['FileName', 'Label', 'ClassName'])\n",
    "        img_list = os.listdir(os.path.join(train_data_path,data_dir,vid))\n",
    "        for img in img_list:\n",
    "            img_path = os.path.join(train_data_path,data_dir,vid,img)\n",
    "            train_df = train_df.append({'FileName': img_path, 'Label': label,'ClassName':data_dir },ignore_index=True)\n",
    "        file_name='{}_{}.csv'.format(data_dir,vid)\n",
    "        train_df.to_csv('data_files/train/{}'.format(file_name))"
   ]
  },
  {
   "cell_type": "markdown",
   "metadata": {},
   "source": [
    "#### Create csv files for test data"
   ]
  },
  {
   "cell_type": "code",
   "execution_count": 10,
   "metadata": {},
   "outputs": [],
   "source": [
    "data_dir_list = os.listdir(test_data_path)\n",
    "for data_dir in data_dir_list:\n",
    "    label = labels_name[str(data_dir)]\n",
    "    video_list = os.listdir(os.path.join(test_data_path,data_dir))\n",
    "    for vid in video_list:\n",
    "        test_df = pd.DataFrame(columns=['FileName', 'Label', 'ClassName'])\n",
    "        img_list = os.listdir(os.path.join(test_data_path,data_dir,vid))\n",
    "        for img in img_list:\n",
    "            img_path = os.path.join(test_data_path,data_dir,vid,img)\n",
    "            test_df = test_df.append({'FileName': img_path, 'Label': label,'ClassName':data_dir },ignore_index=True)\n",
    "        file_name='{}_{}.csv'.format(data_dir,vid)\n",
    "        test_df.to_csv('data_files/test/{}'.format(file_name))"
   ]
  },
  {
   "cell_type": "code",
   "execution_count": null,
   "metadata": {},
   "outputs": [],
   "source": []
  }
 ],
 "metadata": {
  "kernelspec": {
   "display_name": "Python 3",
   "language": "python",
   "name": "python3"
  },
  "language_info": {
   "codemirror_mode": {
    "name": "ipython",
    "version": 3
   },
   "file_extension": ".py",
   "mimetype": "text/x-python",
   "name": "python",
   "nbconvert_exporter": "python",
   "pygments_lexer": "ipython3",
   "version": "3.6.8"
  }
 },
 "nbformat": 4,
 "nbformat_minor": 2
}
